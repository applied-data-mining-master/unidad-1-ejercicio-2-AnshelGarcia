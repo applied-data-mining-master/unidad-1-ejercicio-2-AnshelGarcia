{
 "cells": [
  {
   "cell_type": "markdown",
   "metadata": {},
   "source": [
    "# Activity 1.01: Generating All Possible Sequences of Steps in a Tic-Tac-Toe Game\n",
    "\n",
    "This activity will explore the combinatorial explosion that is possible when two players play randomly. We will be using a program that, building on the previous results, generates all possible sequences of moves between a computer player and a human player.\n",
    "\n",
    "Let's assume that the human player may make any possible move. In this example, given that the computer player is playing randomly, we will examine the wins, losses, and draws belonging to two randomly playing players.\n",
    "\n",
    "Expected output:\n",
    "\n",
    "```\n",
    "step 0. Moves: 1\n",
    "step 1. Moves: 9\n",
    "step 2. Moves: 72\n",
    "step 3. Moves: 504\n",
    "step 4. Moves: 3024\n",
    "step 5. Moves: 13680\n",
    "step 6. Moves: 49402\n",
    "step 7. Moves: 111109\n",
    "step 8. Moves: 156775\n",
    "First player wins: 106279\n",
    "Second player wins: 68644\n",
    "Draw 91150\n",
    "Total 266073\n",
    "```\n",
    "\n",
    "  > **Hints**  \n",
    "  >  1. Reuse all the function codes of Steps 1–9 from the Exercise 1.02.\n",
    "  >  2. Create a function that maps the `all_moves_from_board` function on each element of a list of board spaces/squares. This way, we will have all of the nodes of a decision tree. The decision tree starts with `[ EMPTY_SIGN * 9 ]` and expands after each move.\n",
    "  >  3. Create a `filter_wins` function that takes finished games out of the list of moves and appends them in an array containing the board states won by the AI player and the opponent player.\n",
    "  >  4. Create a `count_possibilities` function that prints and returns the number of decision tree leaves that ended with a draw, were won by the first player, and were won by the second player.\n",
    "  >  5. We have up to nine steps in each state. In the 0th, 2nd, 4th, 6th, and 8th iterations, the AI player moves. In all other iterations, the opponent moves. We create all possible moves in all steps and take out finished games from the move list.\n",
    "  >  6. Finally, execute the number of possibilities to experience the combinatorial explosion."
   ]
  },
  {
   "cell_type": "code",
   "execution_count": null,
   "metadata": {},
   "outputs": [],
   "source": [
    "from random import choice\n",
    "\n",
    "pos = [[0, 1, 2], [3, 4, 5], [6, 7, 8], [0, 3, 6], [1, 4, 7], [2, 5, 8], [0, 4, 8], [2, 4, 6]]\n",
    "emptycells = '-';\n",
    "ai = 'O';\n",
    "player = 'X';\n",
    "\n",
    "def printBoard(B):\n",
    "    print(\" \")\n",
    "    print(' '.join(B[:3]))\n",
    "    print(' '.join(B[3:6]))\n",
    "    print(' '.join(B[6:]))\n",
    "    print(\" \")\n",
    "    return B\n",
    "\n",
    "def move_player (B, fila, columna):\n",
    "    i = 3 * (fila -1) + (columna -1)\n",
    "    if B[i] == emptycells:\n",
    "        return B[:i] + player + B[i+1:]\n",
    "    return B\n",
    "\n",
    "def all_moves_from_board(B, a):\n",
    "    lista = []\n",
    "    for i, m in enumerate(B):\n",
    "        if m == emptycells:\n",
    "            lista.append(B[:i] + a + B[i+1:])\n",
    "    return lista\n",
    "\n",
    "def movimientos(B):\n",
    "    return choice(all_moves_from_board(B, ai))\n",
    "\n",
    "def game_won_by(B):\n",
    "    for i in pos:\n",
    "        if B[i[0]] == B[i[1]] == \\\n",
    "           B[i[2]] != emptycells:\n",
    "            return B[i[0]]\n",
    "    return emptycells\n",
    "\n",
    "def game_loop():\n",
    "    B = emptycells * 9\n",
    "    contador = 9\n",
    "    fin = False\n",
    "    \n",
    "    while contador > 0 and not fin:\n",
    "        if contador % 2 == 1:\n",
    "            B = movimientos(B)\n",
    "        else:\n",
    "            fila = int(input('Ingrese la fila: '))\n",
    "            columna = int(input('Ingrese la columna: '))\n",
    "            B = move_player(B, fila, columna)\n",
    "        printBoard(B)\n",
    "        fin = game_won_by(B) != emptycells\n",
    "        contador = sum(1 for cell in B if cell == emptycells)\n",
    "    print('El juego termninó.')\n",
    "    \n",
    "game_loop()"
   ]
  },
  {
   "cell_type": "code",
   "execution_count": null,
   "metadata": {},
   "outputs": [],
   "source": [
    "def all_moves_from_board_list(listaB, v):\n",
    "    movimientos = []\n",
    "    for B in listaB:\n",
    "        movimientos.extend(all_moves_from_board(board, v))\n",
    "    return movimientos"
   ]
  },
  {
   "cell_type": "code",
   "execution_count": null,
   "metadata": {},
   "outputs": [],
   "source": [
    "B = emptycells * 9\n",
    "tm = all_moves_from_board(B, ai )\n",
    "tm"
   ]
  },
  {
   "cell_type": "code",
   "execution_count": null,
   "metadata": {},
   "outputs": [],
   "source": [
    "def filter_wins(movimientos, c_g, p_g):\n",
    "    for B in movimientos:\n",
    "        g = gg(B)\n",
    "        if g == ai:\n",
    "            c_g.append(B)\n",
    "            movimientos.remove(B)\n",
    "        elif g == player:\n",
    "            p_g.append(B)\n",
    "            movimientos.remove(B)"
   ]
  },
  {
   "cell_type": "code",
   "execution_count": null,
   "metadata": {},
   "outputs": [],
   "source": [
    "def count_possibilities():\n",
    "    B = emptycells * 9\n",
    "    movimientos = [B]\n",
    "    c_g = []\n",
    "    p_g = []\n",
    "    for i in range(9):\n",
    "        print('Paso ' + str(i) + '. Movimientos: ' + str(len(movimientos)))\n",
    "        v = ai if 324 | A\n",
    "               i % 2 == 0 else player\n",
    "        movimientos = all_moves_from_board_list(movimientos, v)\n",
    "        filter_wins(movimientos, c_g, p_g)\n",
    "    print('Ganó el jugador 1: ' + str(len(c_g)))\n",
    "    print('Ganó el jugador 2: ' + str(len(p_g)))\n",
    "    print('Colocados', str(len(movimientos)))\n",
    "    print('Total', str(len(c_g) + len(p_g) + len(movimientos)))\n",
    "    return len(c_g), len(p_g), len(movimientos), len(c_g) + len(p_g) + len(movimientos)"
   ]
  },
  {
   "cell_type": "code",
   "execution_count": null,
   "metadata": {},
   "outputs": [],
   "source": [
    "jugador1, jugador2, col, total = count_possibilities()"
   ]
  },
  {
   "cell_type": "markdown",
   "metadata": {},
   "source": [
    "As you can see, the tree of the board states consists of a total of $266073$ leaves. The `count_possibilities` function essentially implements a BFS algorithm to traverse all the possible states of the game. Notice that we count these states multiple times because placing an $X$ in the top-right corner in Step 1 and placing an $X$ in the top-left corner in Step 3 leads to similar possible states as starting with the top-left corner and then placing an $X$ in the top-right corner. If we implemented the detection of duplicate states, we would have to check fewer nodes. However, at this stage, due to the limited depth of the game, we will omit this step.\n",
    "\n",
    "A decision tree, however, is identical to the data structure examined by `count_possibilities`. In a decision tree, we explore the utility of each move by investigating all possible future steps up to a certain extent. In our example, we could calculate the utility of the initial moves by observing the number of wins and losses after fixing the first few moves."
   ]
  },
  {
   "cell_type": "code",
   "execution_count": null,
   "metadata": {},
   "outputs": [],
   "source": []
  }
 ],
 "metadata": {
  "kernelspec": {
   "display_name": "Python 3",
   "language": "python",
   "name": "python3"
  },
  "language_info": {
   "codemirror_mode": {
    "name": "ipython",
    "version": 3
   },
   "file_extension": ".py",
   "mimetype": "text/x-python",
   "name": "python",
   "nbconvert_exporter": "python",
   "pygments_lexer": "ipython3",
   "version": "3.8.5"
  }
 },
 "nbformat": 4,
 "nbformat_minor": 4
}
